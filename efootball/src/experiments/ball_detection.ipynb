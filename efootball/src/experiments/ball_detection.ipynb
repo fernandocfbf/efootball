{
 "cells": [
  {
   "cell_type": "code",
   "execution_count": 2,
   "metadata": {},
   "outputs": [
    {
     "name": "stderr",
     "output_type": "stream",
     "text": [
      "c:\\Users\\ferna\\anaconda3\\envs\\efootball\\lib\\site-packages\\tqdm\\auto.py:22: TqdmWarning: IProgress not found. Please update jupyter and ipywidgets. See https://ipywidgets.readthedocs.io/en/stable/user_install.html\n",
      "  from .autonotebook import tqdm as notebook_tqdm\n"
     ]
    }
   ],
   "source": [
    "import torch\n",
    "\n",
    "class BallDetector():\n",
    "    def __init__(self):\n",
    "        model = torch.hub.load('ultralytics/yolov5', 'custom', path='../yolov5_ball/pre_trained_model.pt')\n",
    "        self.predictor = model\n",
    "\n",
    "    def detectBall(self, image):\n",
    "        return self.predictor(image) "
   ]
  },
  {
   "cell_type": "code",
   "execution_count": 3,
   "metadata": {},
   "outputs": [
    {
     "name": "stderr",
     "output_type": "stream",
     "text": [
      "Using cache found in C:\\Users\\ferna/.cache\\torch\\hub\\ultralytics_yolov5_master\n",
      "YOLOv5  2022-11-1 Python-3.10.6 torch-1.13.0 CUDA:0 (NVIDIA GeForce RTX 2060, 6144MiB)\n",
      "\n",
      "Fusing layers... \n",
      "Model summary: 476 layers, 76118664 parameters, 0 gradients\n",
      "Adding AutoShape... \n"
     ]
    }
   ],
   "source": [
    "object = BallDetector()"
   ]
  },
  {
   "cell_type": "code",
   "execution_count": 4,
   "metadata": {},
   "outputs": [],
   "source": [
    "import cv2\n",
    "image = cv2.imread(\"../../test.png\")"
   ]
  },
  {
   "cell_type": "code",
   "execution_count": 5,
   "metadata": {},
   "outputs": [
    {
     "data": {
      "text/plain": [
       "[tensor([], device='cuda:0', size=(0, 6))]"
      ]
     },
     "execution_count": 5,
     "metadata": {},
     "output_type": "execute_result"
    }
   ],
   "source": [
    "object.detectBall(image).pred"
   ]
  },
  {
   "cell_type": "code",
   "execution_count": 6,
   "metadata": {},
   "outputs": [],
   "source": [
    "VIDEO_PATH = r'C:\\Users\\ferna\\OneDrive\\Documentos\\Insper\\Efootball\\data\\08fd33_0.mp4'"
   ]
  },
  {
   "cell_type": "code",
   "execution_count": 7,
   "metadata": {},
   "outputs": [],
   "source": [
    "import matplotlib.pyplot as plt"
   ]
  },
  {
   "cell_type": "code",
   "execution_count": 55,
   "metadata": {},
   "outputs": [
    {
     "name": "stdout",
     "output_type": "stream",
     "text": [
      "there ->  322 558 335 569\n",
      "conf =  tensor(0.31207, device='cuda:0')\n",
      "1\n"
     ]
    }
   ],
   "source": [
    "cap = cv2.VideoCapture(VIDEO_PATH)\n",
    "fps = cap.get(cv2.CAP_PROP_FPS)\n",
    "n_frames = 100\n",
    "frame_width = int(cap.get(cv2.CAP_PROP_FRAME_WIDTH))\n",
    "frame_height = int(cap.get(cv2.CAP_PROP_FRAME_HEIGHT))\n",
    "\n",
    "for i in range(100):\n",
    "    ret, frame = cap.read()\n",
    "    pred = object.detectBall(frame) \n",
    "    if len(pred.xyxy[0]) > 0:\n",
    "        xyxy = pred.pred[0][0]\n",
    "        x1 = int(pred.pred[0][0][0])\n",
    "        y1 = int(pred.pred[0][0][1])\n",
    "        x2 = int(pred.pred[0][0][2])\n",
    "        y2 = int(pred.pred[0][0][3])\n",
    "        print(\"there -> \", x1, y1, x2, y2)\n",
    "        print(\"conf = \", pred.xyxy[0][0][4] )\n",
    "        print(len(pred.xyxy))\n",
    "        cv2.imwrite(\"out.png\", frame[y1:y2, x1:x2])\n",
    "        break\n",
    "        "
   ]
  }
 ],
 "metadata": {
  "kernelspec": {
   "display_name": "Python 3.10.6 ('efootball')",
   "language": "python",
   "name": "python3"
  },
  "language_info": {
   "codemirror_mode": {
    "name": "ipython",
    "version": 3
   },
   "file_extension": ".py",
   "mimetype": "text/x-python",
   "name": "python",
   "nbconvert_exporter": "python",
   "pygments_lexer": "ipython3",
   "version": "3.10.6 | packaged by conda-forge | (main, Oct 24 2022, 16:02:16) [MSC v.1916 64 bit (AMD64)]"
  },
  "orig_nbformat": 4,
  "vscode": {
   "interpreter": {
    "hash": "9d045801a11602efdd3471276dae8e706bea3021aea0776bb7f3448faa1e7f0a"
   }
  }
 },
 "nbformat": 4,
 "nbformat_minor": 2
}
