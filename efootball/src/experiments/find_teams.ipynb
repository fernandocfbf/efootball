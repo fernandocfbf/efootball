{
 "cells": [
  {
   "cell_type": "code",
   "execution_count": 1,
   "metadata": {},
   "outputs": [
    {
     "name": "stderr",
     "output_type": "stream",
     "text": [
      "c:\\Users\\ferna\\anaconda3\\envs\\efootball\\lib\\site-packages\\tqdm\\auto.py:22: TqdmWarning: IProgress not found. Please update jupyter and ipywidgets. See https://ipywidgets.readthedocs.io/en/stable/user_install.html\n",
      "  from .autonotebook import tqdm as notebook_tqdm\n"
     ]
    }
   ],
   "source": [
    "import cv2\n",
    "import matplotlib.pyplot as plt\n",
    "import numpy as np\n",
    "import torch\n",
    "from statistics import mean\n",
    "from PIL import Image\n",
    "from sklearn.cluster import KMeans\n",
    "\n",
    "import numpy as np\n",
    "\n",
    "import detectron2\n",
    "from detectron2.utils.logger import setup_logger\n",
    "setup_logger()\n",
    "from detectron2 import model_zoo\n",
    "from detectron2.engine import DefaultPredictor\n",
    "from detectron2.config import get_cfg\n",
    "from detectron2.utils.visualizer import Visualizer\n",
    "from detectron2.data import MetadataCatalog, DatasetCatalog\n",
    "\n",
    "class PersonDetector():\n",
    "    def __init__(self, threshold):\n",
    "        cfg = get_cfg()\n",
    "        cfg.merge_from_file(model_zoo.get_config_file(\"COCO-InstanceSegmentation/mask_rcnn_R_50_FPN_3x.yaml\"))\n",
    "        cfg.MODEL.ROI_HEADS.SCORE_THRESH_TEST = threshold  # set threshold for this model\n",
    "        cfg.MODEL.WEIGHTS = model_zoo.get_checkpoint_url(\"COCO-InstanceSegmentation/mask_rcnn_R_50_FPN_3x.yaml\")\n",
    "        cfg.CLASS_INDICES = [0]\n",
    "        cfg.CLASS_STRING = ['person']\n",
    "        self.predictor = DefaultPredictor(cfg)\n",
    "    \n",
    "    def detectPersons(self, image):\n",
    "        outputs = self.predictor(image)\n",
    "        labels = outputs['instances'].pred_classes\n",
    "        scores = outputs[\"instances\"].scores\n",
    "        masks = outputs['instances'].pred_masks\n",
    "        boxes = outputs['instances'].pred_boxes\n",
    "        return {\"boxes\": boxes, \"labels\":labels, \"scores\": scores, \"masks\":masks}"
   ]
  },
  {
   "cell_type": "code",
   "execution_count": 2,
   "metadata": {},
   "outputs": [],
   "source": [
    "person_detector = PersonDetector(threshold=0.6)"
   ]
  },
  {
   "cell_type": "code",
   "execution_count": 3,
   "metadata": {},
   "outputs": [],
   "source": [
    "VIDEO_PATH = r'C:\\Users\\ferna\\OneDrive\\Documentos\\Insper\\Efootball\\data\\08fd33_0.mp4'\n",
    "GRASS_BOUNDARIES = [np.array([40,70,40]), np.array([125,140,110])]"
   ]
  },
  {
   "cell_type": "code",
   "execution_count": 5,
   "metadata": {},
   "outputs": [],
   "source": [
    "def remove_boundaries(image, boundaries):\n",
    "    image_rgb = cv2.cvtColor(image, cv2.COLOR_BGR2RGB)\n",
    "    background = cv2.inRange(image, boundaries[0], boundaries[1])\n",
    "    mask = 255 - background\n",
    "    result = cv2.bitwise_and(image, image, mask=mask)\n",
    "    return result"
   ]
  },
  {
   "cell_type": "code",
   "execution_count": 6,
   "metadata": {},
   "outputs": [],
   "source": [
    "GRASS_BOUNDARIES = [np.array([40,70,40]), np.array([125,140,110])]"
   ]
  },
  {
   "cell_type": "code",
   "execution_count": 9,
   "metadata": {},
   "outputs": [
    {
     "name": "stdout",
     "output_type": "stream",
     "text": [
      "[[104 146 122]\n",
      " [ 88 130 106]\n",
      " [ 62 102  83]\n",
      " ...\n",
      " [ 64 100  88]\n",
      " [ 61  99  80]\n",
      " [ 61  99  80]]\n"
     ]
    },
    {
     "name": "stderr",
     "output_type": "stream",
     "text": [
      "c:\\Users\\ferna\\anaconda3\\envs\\efootball\\lib\\site-packages\\sklearn\\cluster\\_kmeans.py:1334: UserWarning: KMeans is known to have a memory leak on Windows with MKL, when there are less chunks than available threads. You can avoid it by setting the environment variable OMP_NUM_THREADS=2.\n",
      "  warnings.warn(\n"
     ]
    },
    {
     "data": {
      "image/png": "[encoded data removed]",
      "text/plain": [
       "<Figure size 432x288 with 3 Axes>"
      ]
     },
     "metadata": {
      "needs_background": "light"
     },
     "output_type": "display_data"
    }
   ],
   "source": [
    "cap = cv2.VideoCapture(VIDEO_PATH)\n",
    "fps = cap.get(cv2.CAP_PROP_FPS)\n",
    "n_frames = 100\n",
    "frame_width = int(cap.get(cv2.CAP_PROP_FRAME_WIDTH))\n",
    "frame_height = int(cap.get(cv2.CAP_PROP_FRAME_HEIGHT))\n",
    "\n",
    "for i in range(1):\n",
    "    ret, frame = cap.read()\n",
    "    predictions = person_detector.detectPersons(frame)\n",
    "    random_prediciton =  np.asarray(predictions[\"masks\"].to(\"cpu\"))\n",
    "    item_mask = random_prediciton[1]\n",
    "    segmentation = np.where(item_mask == True)\n",
    "    x_min = int(np.min(segmentation[1]))\n",
    "    x_max = int(np.max(segmentation[1]))\n",
    "    y_min = int(np.min(segmentation[0]))\n",
    "    y_max = int(np.max(segmentation[0]))\n",
    "    cropped = Image.fromarray(frame[y_min:y_max, x_min:x_max, :], mode='RGB')\n",
    "    mask = (item_mask * 255).astype('uint8')\n",
    "    result = cv2.bitwise_and(frame, frame, mask=mask)\n",
    "    result_reshape = result.reshape((result.shape[0] * result.shape[1], 3))\n",
    "    only_player = result_reshape[result_reshape.sum(axis=(1)) != 0]\n",
    "    print(only_player)\n",
    "    kmeans = KMeans(n_clusters = 1)\n",
    "    kmeans.fit(only_player)\n",
    "    rect = plt.Rectangle((0,0),10,10,color=kmeans.cluster_centers_[0]/255)\n",
    "    fig, ax = plt.subplots(1, 3)\n",
    "    ax[0].imshow(frame[y_min:y_max, x_min:x_max])\n",
    "    ax[1].imshow(result[y_min:y_max, x_min:x_max])\n",
    "    ax[2].add_patch(rect)\n",
    "    plt.show()"
   ]
  },
  {
   "cell_type": "code",
   "execution_count": null,
   "metadata": {},
   "outputs": [],
   "source": []
  }
 ],
 "metadata": {
  "kernelspec": {
   "display_name": "Python 3.10.6 ('efootball')",
   "language": "python",
   "name": "python3"
  },
  "language_info": {
   "codemirror_mode": {
    "name": "ipython",
    "version": 3
   },
   "file_extension": ".py",
   "mimetype": "text/x-python",
   "name": "python",
   "nbconvert_exporter": "python",
   "pygments_lexer": "ipython3",
   "version": "3.10.6 | packaged by conda-forge | (main, Oct 24 2022, 16:02:16) [MSC v.1916 64 bit (AMD64)]"
  },
  "vscode": {
   "interpreter": {
    "hash": "9d045801a11602efdd3471276dae8e706bea3021aea0776bb7f3448faa1e7f0a"
   }
  }
 },
 "nbformat": 4,
 "nbformat_minor": 2
}
