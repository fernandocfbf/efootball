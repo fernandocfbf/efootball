{
 "cells": [
  {
   "attachments": {},
   "cell_type": "markdown",
   "metadata": {},
   "source": [
    "## Test1"
   ]
  },
  {
   "cell_type": "code",
   "execution_count": null,
   "metadata": {},
   "outputs": [],
   "source": [
    "import cv2\n",
    "import numpy as np\n",
    "import matplotlib.pyplot as plt\n",
    "\n",
    "# Load the image\n",
    "img = cv2.imread(\"C:/Users/ferna/OneDrive/Documentos/Insper/Efootball/data/frames/140.png\")\n",
    "gray = cv2.cvtColor(img, cv2.COLOR_BGR2GRAY)"
   ]
  },
  {
   "cell_type": "code",
   "execution_count": null,
   "metadata": {},
   "outputs": [],
   "source": [
    "plt.figure(figsize=(10,20))\n",
    "plt.imshow(gray, cmap='gray')\n",
    "plt.show()"
   ]
  },
  {
   "cell_type": "code",
   "execution_count": null,
   "metadata": {},
   "outputs": [],
   "source": [
    "# Apply thresholding to segment the image\n",
    "threshold, binary = cv2.threshold(gray, 130, 255, cv2.THRESH_BINARY)"
   ]
  },
  {
   "cell_type": "code",
   "execution_count": null,
   "metadata": {},
   "outputs": [],
   "source": [
    "plt.figure(figsize=(10,20))\n",
    "plt.imshow(binary, cmap='gray')\n",
    "plt.show()"
   ]
  },
  {
   "cell_type": "code",
   "execution_count": null,
   "metadata": {},
   "outputs": [],
   "source": [
    "# Perform morphological operations\n",
    "kernel = np.ones((3,3),np.uint8)\n",
    "binary = cv2.morphologyEx(binary, cv2.MORPH_CLOSE, kernel)"
   ]
  },
  {
   "cell_type": "code",
   "execution_count": null,
   "metadata": {},
   "outputs": [],
   "source": [
    "plt.figure(figsize=(10,20))\n",
    "plt.imshow(binary, cmap='gray')\n",
    "plt.show()"
   ]
  },
  {
   "cell_type": "code",
   "execution_count": null,
   "metadata": {},
   "outputs": [],
   "source": [
    "# Apply contour detection\n",
    "contours, hierarchy = cv2.findContours(binary, cv2.RETR_TREE, cv2.CHAIN_APPROX_SIMPLE)"
   ]
  },
  {
   "cell_type": "code",
   "execution_count": null,
   "metadata": {},
   "outputs": [],
   "source": [
    "test = img.copy()\n",
    "x=[]\n",
    "for i in range(0, len(contours)):\n",
    "    if cv2.contourArea(contours[i]) > 100:\n",
    "        x.append(contours[i])\n",
    "test = cv2.drawContours(test, x, -1, (255,0,0), 2) "
   ]
  },
  {
   "cell_type": "code",
   "execution_count": null,
   "metadata": {},
   "outputs": [],
   "source": [
    "plt.figure(figsize=(10,20))\n",
    "plt.imshow(test, cmap='gray')\n",
    "plt.show()"
   ]
  },
  {
   "cell_type": "code",
   "execution_count": null,
   "metadata": {},
   "outputs": [],
   "source": [
    "# Create a mask to remove the identified objects\n",
    "mask = np.zeros_like(img)"
   ]
  },
  {
   "cell_type": "code",
   "execution_count": null,
   "metadata": {},
   "outputs": [],
   "source": [
    "plt.figure(figsize=(10,20))\n",
    "plt.imshow(mask, cmap='gray')\n",
    "plt.show()"
   ]
  },
  {
   "cell_type": "code",
   "execution_count": null,
   "metadata": {},
   "outputs": [],
   "source": [
    "for contour in contours:\n",
    "    x,y,w,h = cv2.boundingRect(contour)\n",
    "    mask[y:y+h, x:x+w, :] = img[y:y+h, x:x+w, :]\n",
    "\n",
    "# Apply the mask to the original image\n",
    "result = cv2.bitwise_and(img, mask)\n",
    "\n",
    "# Save the result\n",
    "plt.figure(figsize=(10,20))\n",
    "plt.imshow(result, cmap='gray')\n",
    "plt.show()\n"
   ]
  },
  {
   "attachments": {},
   "cell_type": "markdown",
   "metadata": {},
   "source": [
    "## Hough lines"
   ]
  },
  {
   "cell_type": "code",
   "execution_count": null,
   "metadata": {},
   "outputs": [],
   "source": [
    "import cv2\n",
    "import matplotlib.pyplot as plt\n",
    "import numpy as np\n",
    "import math"
   ]
  },
  {
   "cell_type": "code",
   "execution_count": null,
   "metadata": {},
   "outputs": [],
   "source": [
    "field = cv2.imread(\"C:/Users/ferna/OneDrive/Documentos/Insper/Efootball/data/frames/630.png\")\n",
    "field_gray= cv2.cvtColor(field,cv2.COLOR_BGR2GRAY)\n",
    "plt.figure(figsize=(10,20))\n",
    "plt.imshow(field_gray, cmap='gray')\n",
    "plt.show()"
   ]
  },
  {
   "cell_type": "code",
   "execution_count": null,
   "metadata": {},
   "outputs": [],
   "source": [
    "edges = cv2.Canny(field_gray, 50, 150)"
   ]
  },
  {
   "cell_type": "code",
   "execution_count": null,
   "metadata": {},
   "outputs": [],
   "source": [
    "edges = edges/255"
   ]
  },
  {
   "cell_type": "code",
   "execution_count": null,
   "metadata": {},
   "outputs": [],
   "source": [
    "plt.figure(figsize=(10,20))\n",
    "plt.imshow(edges, cmap='gray')\n",
    "plt.show()"
   ]
  },
  {
   "cell_type": "code",
   "execution_count": null,
   "metadata": {},
   "outputs": [],
   "source": [
    "kernel = np.ones((5,5),np.uint8)\n",
    "dilation = cv2.dilate(edges, kernel, iterations = 1)"
   ]
  },
  {
   "cell_type": "code",
   "execution_count": null,
   "metadata": {},
   "outputs": [],
   "source": [
    "plt.figure(figsize=(10,20))\n",
    "plt.imshow(dilation, cmap='gray')\n",
    "plt.show()"
   ]
  },
  {
   "cell_type": "code",
   "execution_count": null,
   "metadata": {},
   "outputs": [],
   "source": [
    "dilation = dilation.astype(np.uint8)\n",
    "mask_blurred = cv2.medianBlur(dilation, 9)"
   ]
  },
  {
   "cell_type": "code",
   "execution_count": null,
   "metadata": {},
   "outputs": [],
   "source": [
    "plt.figure(figsize=(10,20))\n",
    "plt.imshow(mask_blurred, cmap='gray')\n",
    "plt.show()"
   ]
  },
  {
   "cell_type": "code",
   "execution_count": null,
   "metadata": {},
   "outputs": [],
   "source": [
    "frame = field.copy()\n",
    "lines = cv2.HoughLinesP(mask_blurred, rho=1, theta=np.pi/180, threshold=100, minLineLength=100, maxLineGap=20)\n",
    "if lines is not None:\n",
    "    print(len(lines))\n",
    "    for line in lines:\n",
    "        x1,y1,x2,y2 = line[0]\n",
    "        length = round(math.sqrt((x2 - x1)**2 + (y2 - y1)**2), 1)\n",
    "        angle = round(math.degrees(math.atan2(y2 - y1, x2 - x1)), 1)\n",
    "        \n",
    "        if (abs(angle) > 10 and abs(angle) < 30)  or (abs(angle) > 60 and abs(angle) < 130):\n",
    "            frame = cv2.line(frame,(x1,y1),(x2,y2),(255,0,0),2)\n",
    "            cv2.putText(frame, str(angle), (x1, y1), cv2.FONT_HERSHEY_SIMPLEX, 1, (0, 0, 255), 2, cv2.LINE_AA)\n",
    "            #cv2.putText(frame, str(int(length)), (x1, y1), cv2.FONT_HERSHEY_SIMPLEX, 1, (0, 0, 255), 2, cv2.LINE_AA)"
   ]
  },
  {
   "cell_type": "code",
   "execution_count": null,
   "metadata": {},
   "outputs": [],
   "source": [
    "plt.figure(figsize=(20,40))\n",
    "plt.imshow(frame)\n",
    "plt.show()"
   ]
  },
  {
   "cell_type": "code",
   "execution_count": null,
   "metadata": {},
   "outputs": [],
   "source": [
    "#remove the dilation from the edges\n",
    "intersection = dilation*edges\n",
    "mask_to_keep = edges-intersection"
   ]
  },
  {
   "cell_type": "code",
   "execution_count": null,
   "metadata": {},
   "outputs": [],
   "source": [
    "#apply the dilation mask on the field image\n",
    "#convert field to RGB\n",
    "field_rgb = cv2.cvtColor(field, cv2.COLOR_BGR2RGB)\n",
    "field_masked = cv2.bitwise_and(field_rgb, field_rgb, mask=mask_blurred)"
   ]
  },
  {
   "cell_type": "code",
   "execution_count": null,
   "metadata": {},
   "outputs": [],
   "source": [
    "plt.figure(figsize=(10,20))\n",
    "plt.imshow(field_masked)\n",
    "plt.show()"
   ]
  },
  {
   "cell_type": "code",
   "execution_count": null,
   "metadata": {},
   "outputs": [],
   "source": [
    "def get_lines(image):\n",
    "    field_gray= cv2.cvtColor(image, cv2.COLOR_BGR2GRAY)\n",
    "    edges = cv2.Canny(field_gray, 50, 150)\n",
    "    edges = edges/255\n",
    "    kernel = np.ones((5,5),np.uint8)\n",
    "    dilation = cv2.dilate(edges, kernel, iterations = 1)\n",
    "    dilation = dilation.astype(np.uint8)\n",
    "    mask_blurred = cv2.medianBlur(dilation, 9)\n",
    "    frame = image.copy()\n",
    "    lines = cv2.HoughLinesP(mask_blurred, rho=1, theta=np.pi/180, threshold=150, minLineLength=530, maxLineGap=1)\n",
    "    if lines is not None:\n",
    "        for line in lines:\n",
    "            x1,y1,x2,y2 = line[0]\n",
    "            length = round(math.sqrt((x2 - x1)**2 + (y2 - y1)**2), 1)\n",
    "            angle = round(math.degrees(math.atan2(y2 - y1, x2 - x1)), 1)\n",
    "            if angle > 20:\n",
    "                frame = cv2.line(frame,(x1,y1),(x2,y2),(255,0,0),2)\n",
    "                cv2.putText(frame, str(angle), (x1, y1), cv2.FONT_HERSHEY_SIMPLEX, 1, (0, 0, 255), 2, cv2.LINE_AA)\n",
    "    return frame"
   ]
  },
  {
   "cell_type": "code",
   "execution_count": null,
   "metadata": {},
   "outputs": [],
   "source": [
    "# import some common libraries\n",
    "import numpy as np\n",
    "import cv2\n",
    "import random\n",
    "import os\n",
    "import matplotlib.pyplot as plt\n",
    "\n",
    "from efootball.src.classes.models.detectron2_field.ModelField import FieldDetector\n",
    "from efootball.src.classes.models.detectron2_person.ModelPerson import PersonDetector "
   ]
  },
  {
   "cell_type": "code",
   "execution_count": null,
   "metadata": {},
   "outputs": [],
   "source": [
    "person_detector = PersonDetector(0.5)\n",
    "field_detector = FieldDetector(0.5)"
   ]
  },
  {
   "cell_type": "code",
   "execution_count": null,
   "metadata": {},
   "outputs": [],
   "source": [
    "def get_only_field_lines(image):\n",
    "    field = field_detector.removeBackground(image)\n",
    "    persons = person_detector.detectPersons(field)\n",
    "    gray3d= cv2.cvtColor(field,cv2.COLOR_BGR2GRAY)\n",
    "    edges = cv2.Canny(gray3d, 50, 150)\n",
    "    edges = edges/255\n",
    "    person_mask = np.zeros_like(edges)\n",
    "    for i in range(len(persons['masks'])):\n",
    "        temp_mask = persons['masks'][i].cpu().numpy()\n",
    "        person_mask[temp_mask] = 1\n",
    "    kernel = np.ones((4,4),np.uint8)\n",
    "    dilated_person_mask = cv2.dilate(person_mask, kernel, iterations = 2).astype(np.uint8)\n",
    "    inverted_person_mask = 1 - dilated_person_mask\n",
    "    mask_a = edges.squeeze().astype(np.uint8)\n",
    "    mask_b = inverted_person_mask.squeeze().astype(np.uint8)\n",
    "    image_without_persons = np.bitwise_and(mask_b, mask_a)\n",
    "    kernel = np.ones((3,3),np.uint8)\n",
    "    dilation = cv2.dilate(image_without_persons, kernel, iterations = 3).astype(np.uint8)\n",
    "    kernel = np.ones((2,8),np.uint8)\n",
    "    erosion = cv2.erode(dilation ,kernel,iterations = 1)\n",
    "    erosion = erosion.astype(np.uint8)\n",
    "    mask_blurred = cv2.medianBlur(erosion, 5)\n",
    "    field_rgb = cv2.cvtColor(image, cv2.COLOR_BGR2RGB)\n",
    "    field_masked = cv2.bitwise_and(field_rgb, field_rgb, mask=mask_blurred)\n",
    "    return field_masked\n"
   ]
  },
  {
   "attachments": {},
   "cell_type": "markdown",
   "metadata": {},
   "source": [
    "## Apply to video"
   ]
  },
  {
   "cell_type": "code",
   "execution_count": null,
   "metadata": {},
   "outputs": [],
   "source": [
    "import tqdm\n",
    "import cv2\n",
    "import numpy as np\n",
    "import math\n",
    "import matplotlib.pyplot as plt"
   ]
  },
  {
   "cell_type": "code",
   "execution_count": 17,
   "metadata": {},
   "outputs": [],
   "source": [
    "VIDEO_PATH = r'C:/Users/ferna/OneDrive/Documentos/Insper/Efootball/data/input/08fd33_0.mp4'\n",
    "OUT_VIDEO = r'C:/Users/ferna/OneDrive/Documentos/Insper/Efootball/data/output/08fd33_0_out.mp4'\n",
    "cap = cv2.VideoCapture(VIDEO_PATH)\n",
    "fps = cap.get(cv2.CAP_PROP_FPS)\n",
    "n_frames = int(cap.get(cv2.CAP_PROP_FRAME_COUNT))\n",
    "frame_width = int(cap.get(cv2.CAP_PROP_FRAME_WIDTH))\n",
    "frame_height = int(cap.get(cv2.CAP_PROP_FRAME_HEIGHT))\n",
    "out_cap = cv2.VideoWriter(OUT_VIDEO, cv2.VideoWriter_fourcc(*'mp4v'), fps, (frame_width, frame_height))"
   ]
  },
  {
   "cell_type": "code",
   "execution_count": 18,
   "metadata": {},
   "outputs": [
    {
     "name": "stderr",
     "output_type": "stream",
     "text": [
      "  4%|▎         | 28/750 [00:18<07:52,  1.53it/s]\n",
      " 67%|██████▋   | 500/750 [04:04<02:02,  2.04it/s]\n"
     ]
    }
   ],
   "source": [
    "pbar = tqdm.tqdm(total=n_frames)\n",
    "for i in range(500):\n",
    "    ret, frame = cap.read()\n",
    "    frame = get_only_field_lines(frame)\n",
    "    out_cap.write(frame)\n",
    "    pbar.update(1)\n",
    "pbar.close()\n",
    "cap.release()\n",
    "out_cap.release()"
   ]
  }
 ],
 "metadata": {
  "kernelspec": {
   "display_name": "efootball",
   "language": "python",
   "name": "python3"
  },
  "language_info": {
   "codemirror_mode": {
    "name": "ipython",
    "version": 3
   },
   "file_extension": ".py",
   "mimetype": "text/x-python",
   "name": "python",
   "nbconvert_exporter": "python",
   "pygments_lexer": "ipython3",
   "version": "3.10.6 | packaged by conda-forge | (main, Oct 24 2022, 16:02:16) [MSC v.1916 64 bit (AMD64)]"
  },
  "orig_nbformat": 4,
  "vscode": {
   "interpreter": {
    "hash": "9d045801a11602efdd3471276dae8e706bea3021aea0776bb7f3448faa1e7f0a"
   }
  }
 },
 "nbformat": 4,
 "nbformat_minor": 2
}
